{
  "nbformat": 4,
  "nbformat_minor": 0,
  "metadata": {
    "colab": {
      "provenance": [],
      "authorship_tag": "ABX9TyMLKANHoJdyR7QJACpmAbkM",
      "include_colab_link": true
    },
    "kernelspec": {
      "name": "python3",
      "display_name": "Python 3"
    },
    "language_info": {
      "name": "python"
    }
  },
  "cells": [
    {
      "cell_type": "markdown",
      "metadata": {
        "id": "view-in-github",
        "colab_type": "text"
      },
      "source": [
        "<a href=\"https://colab.research.google.com/github/jinxuan/uberjob-demo/blob/main/uberjob_demo.ipynb\" target=\"_parent\"><img src=\"https://colab.research.google.com/assets/colab-badge.svg\" alt=\"Open In Colab\"/></a>"
      ]
    },
    {
      "cell_type": "code",
      "execution_count": null,
      "metadata": {
        "id": "xWAEE6QEgYJ3"
      },
      "outputs": [],
      "source": [
        "!pip install uberjob"
      ]
    },
    {
      "cell_type": "code",
      "source": [
        "import operator\n",
        "import os\n",
        "import random\n",
        "import shutil\n",
        "import time\n",
        "\n",
        "import uberjob"
      ],
      "metadata": {
        "id": "Idc3r7jUxXml"
      },
      "execution_count": null,
      "outputs": []
    },
    {
      "cell_type": "code",
      "source": [
        "def area(width, height):\n",
        "     return width * height\n",
        "# before\n",
        "x = 1 + 2\n",
        "y = 3 + 4\n",
        "z = area(x, y)\n",
        "print(f'area[run by function] is {z}')\n",
        "\n",
        "# in uberjob\n",
        "plan = uberjob.Plan()\n",
        "x = plan.call(operator.add, 1, 2)\n",
        "y = plan.call(operator.add, 3, 4)\n",
        "z = plan.call(area, width=x, height=y)\n",
        "res = uberjob.run(plan, output=z)\n",
        "print(f'area[run by uberjob] is {res}')"
      ],
      "metadata": {
        "id": "Jq8xA7_PgcG0"
      },
      "execution_count": null,
      "outputs": []
    },
    {
      "cell_type": "markdown",
      "source": [
        "# Easy Parallism"
      ],
      "metadata": {
        "id": "IuLuQiN00NnI"
      }
    },
    {
      "cell_type": "code",
      "source": [
        "import uberjob\n",
        "\n",
        "def dont_roll_six():\n",
        "    time.sleep(random.random() * 10)\n",
        "    if random.randint(1, 6) == 6:\n",
        "        raise Exception('Something bad happened.')\n",
        "\n",
        "plan = uberjob.Plan()\n",
        "calls = [plan.call(dont_roll_six) for _ in range(10_000)]\n",
        "uberjob.run(plan, output=calls, max_workers=32)"
      ],
      "metadata": {
        "id": "F-OEqSkdgjJi"
      },
      "execution_count": null,
      "outputs": []
    },
    {
      "cell_type": "code",
      "source": [
        "folder_a = 'folder_a'\n",
        "folder_b = 'folder_b'\n",
        "os.makedirs(folder_a, exist_ok=True)\n",
        "os.makedirs(folder_b, exist_ok=True)\n",
        "\n",
        "for i in range(200): # Create 200 files to choose from in folder_a\n",
        "  with open(os.path.join(folder_a, f'file_{i}.txt'), 'w') as f:\n",
        "    f.write(f'This is file number {i}')\n",
        "\n",
        "def slow_copy(src, dest):\n",
        "  \"\"\"Copies a file with a 1-second delay.\"\"\"\n",
        "  time.sleep(5)\n",
        "  shutil.copy(src, dest)\n",
        "\n",
        "if os.path.exists(folder_b):\n",
        "  shutil.rmtree(folder_b)\n",
        "  os.makedirs(folder_b, exist_ok=True)"
      ],
      "metadata": {
        "id": "uLFYkxZrmk7t"
      },
      "execution_count": null,
      "outputs": []
    },
    {
      "cell_type": "code",
      "source": [
        "from uberjob.stores import PathSource\n",
        "plan = uberjob.Plan()\n",
        "registry = uberjob.Registry()\n",
        "\n",
        "files_to_copy = os.listdir(folder_a)\n",
        "\n",
        "# Create copy tasks for each selected file\n",
        "copy_tasks = []\n",
        "for filename in files_to_copy:\n",
        "  src_path = os.path.join(folder_a, filename)\n",
        "  dest_path = os.path.join(folder_b, filename)\n",
        "  src_node = registry.source(plan, PathSource(src_path))\n",
        "  dst_node = registry.source(plan, PathSource(dest_path, required=False))\n",
        "  copy_task = plan.call(slow_copy, src_node, dest_path)\n",
        "  plan.add_dependency(copy_task, dst_node)\n",
        "  copy_tasks.append(copy_task)\n",
        "\n",
        "# Run the plan to execute the copy tasks\n",
        "uberjob.run(plan, registry=registry, max_workers=10) # Adjust max_workers as needed\n",
        "\n",
        "print(\"Finished random files.\")"
      ],
      "metadata": {
        "id": "ngBHFZxuglxp"
      },
      "execution_count": null,
      "outputs": []
    },
    {
      "cell_type": "code",
      "source": [
        " uberjob.render(uberjob.run(plan, registry=registry, dry_run=True))"
      ],
      "metadata": {
        "id": "CbhwgsTwx3Zp"
      },
      "execution_count": null,
      "outputs": []
    },
    {
      "cell_type": "code",
      "source": [],
      "metadata": {
        "id": "jXNtJndXz0mF"
      },
      "execution_count": null,
      "outputs": []
    },
    {
      "cell_type": "code",
      "source": [
        "uberjob.run(plan, registry=registry, max_workers=10) # Adjust max_workers as needed\n"
      ],
      "metadata": {
        "id": "X57q6SW6lhBt"
      },
      "execution_count": null,
      "outputs": []
    },
    {
      "cell_type": "code",
      "source": [],
      "metadata": {
        "id": "j2bT9P9wzg3W"
      },
      "execution_count": null,
      "outputs": []
    }
  ]
}